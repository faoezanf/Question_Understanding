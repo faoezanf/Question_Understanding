{
  "nbformat": 4,
  "nbformat_minor": 0,
  "metadata": {
    "colab": {
      "name": "QuestionUnderstandingEval.ipynb",
      "provenance": []
    },
    "kernelspec": {
      "name": "python3",
      "display_name": "Python 3"
    },
    "language_info": {
      "name": "python"
    }
  },
  "cells": [
    {
      "cell_type": "code",
      "metadata": {
        "colab": {
          "base_uri": "https://localhost:8080/"
        },
        "id": "waUjPUSJzr_V",
        "outputId": "8824c1d6-222e-4ea5-fcd5-040c08243431"
      },
      "source": [
        "from google.colab import drive\n",
        "drive.mount('/content/drive')"
      ],
      "execution_count": 1,
      "outputs": [
        {
          "output_type": "stream",
          "text": [
            "Mounted at /content/drive\n"
          ],
          "name": "stdout"
        }
      ]
    },
    {
      "cell_type": "markdown",
      "metadata": {
        "id": "bivuftEN7Cex"
      },
      "source": [
        "Library Import"
      ]
    },
    {
      "cell_type": "code",
      "metadata": {
        "colab": {
          "base_uri": "https://localhost:8080/"
        },
        "id": "HUo3DDk6z0RL",
        "outputId": "13ff0070-8c94-47e9-de6c-08daad58d93c"
      },
      "source": [
        "import pandas as pd\n",
        "import numpy as np\n",
        "import nltk\n",
        "nltk.download('punkt')\n",
        "nltk.download('averaged_perceptron_tagger')\n",
        "from nltk import word_tokenize, pos_tag\n",
        "from sklearn.metrics import accuracy_score\n",
        "from gensim.models import FastText\n",
        "from sklearn.model_selection import train_test_split\n",
        "from sklearn.ensemble import RandomForestClassifier\n",
        "from difflib import SequenceMatcher"
      ],
      "execution_count": 2,
      "outputs": [
        {
          "output_type": "stream",
          "text": [
            "[nltk_data] Downloading package punkt to /root/nltk_data...\n",
            "[nltk_data]   Unzipping tokenizers/punkt.zip.\n",
            "[nltk_data] Downloading package averaged_perceptron_tagger to\n",
            "[nltk_data]     /root/nltk_data...\n",
            "[nltk_data]   Unzipping taggers/averaged_perceptron_tagger.zip.\n"
          ],
          "name": "stdout"
        }
      ]
    },
    {
      "cell_type": "markdown",
      "metadata": {
        "id": "qWag5XEi8oDS"
      },
      "source": [
        "Untuk membangun model POS Tag menggunakan machine learning, dibutuhkan sebuah dataset yang mengandung label POS. Dataset didapatkan dari : https://www.kaggle.com/abhinavwalia95/entity-annotated-corpus?select=ner_dataset.csv"
      ]
    },
    {
      "cell_type": "code",
      "metadata": {
        "colab": {
          "base_uri": "https://localhost:8080/",
          "height": 419
        },
        "id": "UykzW9yt0JRd",
        "outputId": "dd575d72-1d4f-4ef3-a4c3-fe24c2b0aa40"
      },
      "source": [
        "train_data = pd.read_csv(\"drive/My Drive/NLP/Dataset/pos_dataset.csv\", encoding=\"Latin-1\")\n",
        "train_data"
      ],
      "execution_count": 3,
      "outputs": [
        {
          "output_type": "execute_result",
          "data": {
            "text/html": [
              "<div>\n",
              "<style scoped>\n",
              "    .dataframe tbody tr th:only-of-type {\n",
              "        vertical-align: middle;\n",
              "    }\n",
              "\n",
              "    .dataframe tbody tr th {\n",
              "        vertical-align: top;\n",
              "    }\n",
              "\n",
              "    .dataframe thead th {\n",
              "        text-align: right;\n",
              "    }\n",
              "</style>\n",
              "<table border=\"1\" class=\"dataframe\">\n",
              "  <thead>\n",
              "    <tr style=\"text-align: right;\">\n",
              "      <th></th>\n",
              "      <th>Sentence #</th>\n",
              "      <th>Word</th>\n",
              "      <th>POS</th>\n",
              "      <th>Tag</th>\n",
              "    </tr>\n",
              "  </thead>\n",
              "  <tbody>\n",
              "    <tr>\n",
              "      <th>0</th>\n",
              "      <td>Sentence: 1</td>\n",
              "      <td>Thousands</td>\n",
              "      <td>NNS</td>\n",
              "      <td>O</td>\n",
              "    </tr>\n",
              "    <tr>\n",
              "      <th>1</th>\n",
              "      <td>NaN</td>\n",
              "      <td>of</td>\n",
              "      <td>IN</td>\n",
              "      <td>O</td>\n",
              "    </tr>\n",
              "    <tr>\n",
              "      <th>2</th>\n",
              "      <td>NaN</td>\n",
              "      <td>demonstrators</td>\n",
              "      <td>NNS</td>\n",
              "      <td>O</td>\n",
              "    </tr>\n",
              "    <tr>\n",
              "      <th>3</th>\n",
              "      <td>NaN</td>\n",
              "      <td>have</td>\n",
              "      <td>VBP</td>\n",
              "      <td>O</td>\n",
              "    </tr>\n",
              "    <tr>\n",
              "      <th>4</th>\n",
              "      <td>NaN</td>\n",
              "      <td>marched</td>\n",
              "      <td>VBN</td>\n",
              "      <td>O</td>\n",
              "    </tr>\n",
              "    <tr>\n",
              "      <th>...</th>\n",
              "      <td>...</td>\n",
              "      <td>...</td>\n",
              "      <td>...</td>\n",
              "      <td>...</td>\n",
              "    </tr>\n",
              "    <tr>\n",
              "      <th>1048570</th>\n",
              "      <td>NaN</td>\n",
              "      <td>they</td>\n",
              "      <td>PRP</td>\n",
              "      <td>O</td>\n",
              "    </tr>\n",
              "    <tr>\n",
              "      <th>1048571</th>\n",
              "      <td>NaN</td>\n",
              "      <td>responded</td>\n",
              "      <td>VBD</td>\n",
              "      <td>O</td>\n",
              "    </tr>\n",
              "    <tr>\n",
              "      <th>1048572</th>\n",
              "      <td>NaN</td>\n",
              "      <td>to</td>\n",
              "      <td>TO</td>\n",
              "      <td>O</td>\n",
              "    </tr>\n",
              "    <tr>\n",
              "      <th>1048573</th>\n",
              "      <td>NaN</td>\n",
              "      <td>the</td>\n",
              "      <td>DT</td>\n",
              "      <td>O</td>\n",
              "    </tr>\n",
              "    <tr>\n",
              "      <th>1048574</th>\n",
              "      <td>NaN</td>\n",
              "      <td>attack</td>\n",
              "      <td>NN</td>\n",
              "      <td>O</td>\n",
              "    </tr>\n",
              "  </tbody>\n",
              "</table>\n",
              "<p>1048575 rows × 4 columns</p>\n",
              "</div>"
            ],
            "text/plain": [
              "          Sentence #           Word  POS Tag\n",
              "0        Sentence: 1      Thousands  NNS   O\n",
              "1                NaN             of   IN   O\n",
              "2                NaN  demonstrators  NNS   O\n",
              "3                NaN           have  VBP   O\n",
              "4                NaN        marched  VBN   O\n",
              "...              ...            ...  ...  ..\n",
              "1048570          NaN           they  PRP   O\n",
              "1048571          NaN      responded  VBD   O\n",
              "1048572          NaN             to   TO   O\n",
              "1048573          NaN            the   DT   O\n",
              "1048574          NaN         attack   NN   O\n",
              "\n",
              "[1048575 rows x 4 columns]"
            ]
          },
          "metadata": {
            "tags": []
          },
          "execution_count": 3
        }
      ]
    },
    {
      "cell_type": "markdown",
      "metadata": {
        "id": "NjagJX-L81ej"
      },
      "source": [
        "Code dibawah ini adalah untuk membuat list baru berisi kata dari setiap record dataset yang dilakukan lowercase."
      ]
    },
    {
      "cell_type": "code",
      "metadata": {
        "id": "1bxsa2Kq0cq3"
      },
      "source": [
        "dTrain = [[str.lower(train_data['Word'][i])] for i in range(len(train_data))]"
      ],
      "execution_count": 4,
      "outputs": []
    },
    {
      "cell_type": "markdown",
      "metadata": {
        "id": "6tcAgcpz9IYa"
      },
      "source": [
        "Pembangunan model FastText() :"
      ]
    },
    {
      "cell_type": "code",
      "metadata": {
        "id": "x4K2OyIS0jBH"
      },
      "source": [
        "vec_size = 5\n",
        "\n",
        "model = FastText(size=vec_size,min_count=1)\n",
        "model.build_vocab(dTrain)\n",
        "model.train(dTrain, total_examples=model.corpus_count, epochs=30)"
      ],
      "execution_count": 5,
      "outputs": []
    },
    {
      "cell_type": "markdown",
      "metadata": {
        "id": "5BiXMuss9Luu"
      },
      "source": [
        "Fungsi get_vec() dibawah ini adalah fungsi untuk menggenerate vektor fitur berdasarkan proses training model FastText sebelumnya."
      ]
    },
    {
      "cell_type": "code",
      "metadata": {
        "id": "-CN7qgqg0oDw"
      },
      "source": [
        "def get_vec(model,data,lab):\n",
        "  vector = []\n",
        "  tag = []\n",
        "  for i in range(0,len(data)):\n",
        "    vector.append(model.wv[data[i]])\n",
        "    tag.append(lab[i])\n",
        "  return vector,tag"
      ],
      "execution_count": 6,
      "outputs": []
    },
    {
      "cell_type": "code",
      "metadata": {
        "id": "MN6JLRNf0rZ2"
      },
      "source": [
        "X_train,y_train = get_vec(model,dTrain,train_data.POS)"
      ],
      "execution_count": 7,
      "outputs": []
    },
    {
      "cell_type": "markdown",
      "metadata": {
        "id": "WaFmlffp9XQt"
      },
      "source": [
        "Split data, data test menjadi 20%."
      ]
    },
    {
      "cell_type": "code",
      "metadata": {
        "id": "-GklT9_b0vOQ"
      },
      "source": [
        "Xn_train, X_test, yn_train, y_test = train_test_split(X_train,y_train, test_size=0.2,shuffle=True)"
      ],
      "execution_count": 8,
      "outputs": []
    },
    {
      "cell_type": "markdown",
      "metadata": {
        "id": "UeF3_-X79aNK"
      },
      "source": [
        "Reshape array sebelum dilakukan fit/training dengan algoritma Random Forest"
      ]
    },
    {
      "cell_type": "code",
      "metadata": {
        "id": "vNFMqHoj0-45"
      },
      "source": [
        "Xn_train = np.reshape(Xn_train,(len(Xn_train),vec_size))\n",
        "X_test = np.reshape(X_test,(len(X_test),vec_size))"
      ],
      "execution_count": 9,
      "outputs": []
    },
    {
      "cell_type": "markdown",
      "metadata": {
        "id": "u8V4dIH39mNx"
      },
      "source": [
        "Training dengan menggunakan Random Forest"
      ]
    },
    {
      "cell_type": "code",
      "metadata": {
        "colab": {
          "base_uri": "https://localhost:8080/"
        },
        "id": "pzzkxDpZ1CFv",
        "outputId": "eafdd9fe-e5fb-44e4-9b52-2bdd9b446503"
      },
      "source": [
        "RF = RandomForestClassifier(n_estimators=50,random_state=42)\n",
        "RF.fit(Xn_train, yn_train)"
      ],
      "execution_count": 10,
      "outputs": [
        {
          "output_type": "execute_result",
          "data": {
            "text/plain": [
              "RandomForestClassifier(bootstrap=True, ccp_alpha=0.0, class_weight=None,\n",
              "                       criterion='gini', max_depth=None, max_features='auto',\n",
              "                       max_leaf_nodes=None, max_samples=None,\n",
              "                       min_impurity_decrease=0.0, min_impurity_split=None,\n",
              "                       min_samples_leaf=1, min_samples_split=2,\n",
              "                       min_weight_fraction_leaf=0.0, n_estimators=50,\n",
              "                       n_jobs=None, oob_score=False, random_state=42, verbose=0,\n",
              "                       warm_start=False)"
            ]
          },
          "metadata": {
            "tags": []
          },
          "execution_count": 10
        }
      ]
    },
    {
      "cell_type": "code",
      "metadata": {
        "colab": {
          "base_uri": "https://localhost:8080/"
        },
        "id": "IX3IaQ7h1GEE",
        "outputId": "3c96141d-c6b4-49ac-cde6-1424eaee0249"
      },
      "source": [
        "training = RF.predict(Xn_train)\n",
        "print('Akurasi Training : %.2f' % (accuracy_score(training, yn_train)*100),\"%\")\n",
        "#\n",
        "y_pred_test = RF.predict(X_test)\n",
        "print('Akurasi Testing : %.2f' % (accuracy_score(y_test, y_pred_test)*100),\"%\")"
      ],
      "execution_count": 11,
      "outputs": [
        {
          "output_type": "stream",
          "text": [
            "Akurasi Training : 93.59 %\n",
            "Akurasi Testing : 92.25 %\n"
          ],
          "name": "stdout"
        }
      ]
    },
    {
      "cell_type": "markdown",
      "metadata": {
        "id": "OYKZT4Qa9wg2"
      },
      "source": [
        "Fungsi dibawah ini bertujuan untuk mendapatkan question type dari setiap pertanyaan berdasarkan label POS."
      ]
    },
    {
      "cell_type": "code",
      "metadata": {
        "id": "s7m4juAhz7ri"
      },
      "source": [
        "def question_type_extraction(postag):\n",
        "  questype = \"\"\n",
        "  for i in range(0,len(postag)):\n",
        "    if postag[i][1]==\"WDT\" or postag[i][1]==\"WP\" or postag[i][1]==\"WP$\" or postag[i][1]==\"WRB\":\n",
        "      if (questype.find(postag[i][0]) == -1):\n",
        "        questype += postag[i][0] +\",\"\n",
        "  if len(questype)!=0 and questype[len(questype)-1] == \",\":\n",
        "    questype = questype[:-1]\n",
        "  if len(questype)==0:\n",
        "    questype = \"Unknown\"\n",
        "  return questype"
      ],
      "execution_count": 12,
      "outputs": []
    },
    {
      "cell_type": "markdown",
      "metadata": {
        "id": "kINeYppu94Gj"
      },
      "source": [
        "Fungsi dibawah ini bertujuan untuk mendapatkan keyword dari setiap pertanyaan berdasarkan label POS."
      ]
    },
    {
      "cell_type": "code",
      "metadata": {
        "id": "MZ5uBdln0Bvs"
      },
      "source": [
        "def extract_keyword(postag):\n",
        "  keyword = \"\"\n",
        "  for i in range(0,len(postag)):\n",
        "    if postag[i][1]==\"NNP\" or postag[i][1]==\"NNS\" or postag[i][1]==\"NN\" or (postag[i][1]==\"JJ\" and postag[i][0].lower()!=\"many\") or postag[i][1]==\"CD\" or postag[i][1]==\"RBS\" or (postag[i][1]==\"VBN\" and postag[i][1]!=\"been\") or (postag[i][1]==\"VBD\" and postag[i][0].lower()!=\"was\" and postag[i][0].lower()!=\"were\") or postag[i][1]==\"VBG\" or (postag[i][1]==\"VB\" and postag[i][0].lower()!=\"be\") or postag[i][1]==\"RB\":\n",
        "      keyword += postag[i][0] +\" \"\n",
        "  if len(keyword)!=0 and keyword[len(keyword)-1] == \" \":\n",
        "    keyword = keyword[:-1]\n",
        "  return keyword"
      ],
      "execution_count": 13,
      "outputs": []
    },
    {
      "cell_type": "markdown",
      "metadata": {
        "id": "d20LURVN99ES"
      },
      "source": [
        "Fungsi dibawah ini bertujuan untuk mendapatkan label POS dengan menggunakan model FastText dan Random Forest."
      ]
    },
    {
      "cell_type": "code",
      "metadata": {
        "id": "RMBhq4yR2MRT"
      },
      "source": [
        "def get_pos_tag(token_word):\n",
        "  postag = []\n",
        "  for j in range(len(token_word)):\n",
        "    try:\n",
        "      vec = model.wv[token_word[j]]\n",
        "      labelpos = RF.predict([vec])[0]\n",
        "    except:\n",
        "      labelpos = \"NN\"\n",
        "    postag.append([token_word[j],labelpos])\n",
        "  return postag"
      ],
      "execution_count": 14,
      "outputs": []
    },
    {
      "cell_type": "markdown",
      "metadata": {
        "id": "K09YLxcI-ETz"
      },
      "source": [
        "Fungsi dibawah ini bertujuan untuk menggenerate keyword dan question type dari setiap pertanyaan dengan memanggil fungsi-fungsi sebelumnya."
      ]
    },
    {
      "cell_type": "code",
      "metadata": {
        "id": "Vrt_FhMh0D9_"
      },
      "source": [
        " def question_understanding(dataset,modeltype):\n",
        "  keywords = []\n",
        "  qtype = []\n",
        "\n",
        "  for i in range(0,len(dataset)):\n",
        "    token_word = word_tokenize(dataset.question[i].lower())\n",
        "    if modeltype==\"nltk\":\n",
        "      postag = pos_tag(token_word)\n",
        "    elif modeltype==\"fasttext\":\n",
        "      postag = get_pos_tag(token_word)\n",
        "    keywords.append(extract_keyword(postag))\n",
        "    qtype.append(question_type_extraction(postag))\n",
        "  \n",
        "  output = pd.DataFrame({\"keywords\":np.array(keywords),\"question_type\":np.array(qtype)})\n",
        "\n",
        "  return output"
      ],
      "execution_count": 15,
      "outputs": []
    },
    {
      "cell_type": "markdown",
      "metadata": {
        "id": "US-iSiqK-RDa"
      },
      "source": [
        "Load dataset COVID-QA"
      ]
    },
    {
      "cell_type": "code",
      "metadata": {
        "colab": {
          "base_uri": "https://localhost:8080/",
          "height": 674
        },
        "id": "vtscIYTq1gMw",
        "outputId": "1f7bd115-eee0-4a6c-9514-42ef535a98ee"
      },
      "source": [
        "data = pd.read_json(\"/content/drive/MyDrive/NLP/Dataset/COVID-QA.json\")\n",
        "data = pd.json_normalize(data[\"data\"],record_path='paragraphs')\n",
        "new_data = pd.DataFrame(0,index=np.arange(2019),columns=[\"document_id\",\"context\",\"id_question\",\"question\",\"answers_start\",\"answers_text\",\"is_impossible\"])\n",
        "idx=0\n",
        "for x in range(0,len(data[\"qas\"])):\n",
        "  for y in range(0,len(data[\"qas\"][x])):\n",
        "    new_data[\"document_id\"].iloc[idx] = data[\"document_id\"][x]\n",
        "    new_data[\"context\"].iloc[idx] = data[\"context\"][x]\n",
        "    new_data[\"id_question\"].iloc[idx] = data[\"qas\"][x][y][\"id\"]\n",
        "    new_data['question'].iloc[idx] = data[\"qas\"][x][y][\"question\"]\n",
        "    new_data['answers_start'].iloc[idx] = data[\"qas\"][x][y][\"answers\"][0][\"answer_start\"]\n",
        "    new_data['answers_text'].iloc[idx] = data[\"qas\"][x][y][\"answers\"][0][\"text\"]\n",
        "    new_data['is_impossible'].iloc[idx] = data[\"qas\"][x][y][\"is_impossible\"]\n",
        "    idx+=1\n",
        "new_data"
      ],
      "execution_count": 16,
      "outputs": [
        {
          "output_type": "stream",
          "text": [
            "/usr/local/lib/python3.7/dist-packages/pandas/core/indexing.py:670: SettingWithCopyWarning: \n",
            "A value is trying to be set on a copy of a slice from a DataFrame\n",
            "\n",
            "See the caveats in the documentation: https://pandas.pydata.org/pandas-docs/stable/user_guide/indexing.html#returning-a-view-versus-a-copy\n",
            "  iloc._setitem_with_indexer(indexer, value)\n"
          ],
          "name": "stderr"
        },
        {
          "output_type": "execute_result",
          "data": {
            "text/html": [
              "<div>\n",
              "<style scoped>\n",
              "    .dataframe tbody tr th:only-of-type {\n",
              "        vertical-align: middle;\n",
              "    }\n",
              "\n",
              "    .dataframe tbody tr th {\n",
              "        vertical-align: top;\n",
              "    }\n",
              "\n",
              "    .dataframe thead th {\n",
              "        text-align: right;\n",
              "    }\n",
              "</style>\n",
              "<table border=\"1\" class=\"dataframe\">\n",
              "  <thead>\n",
              "    <tr style=\"text-align: right;\">\n",
              "      <th></th>\n",
              "      <th>document_id</th>\n",
              "      <th>context</th>\n",
              "      <th>id_question</th>\n",
              "      <th>question</th>\n",
              "      <th>answers_start</th>\n",
              "      <th>answers_text</th>\n",
              "      <th>is_impossible</th>\n",
              "    </tr>\n",
              "  </thead>\n",
              "  <tbody>\n",
              "    <tr>\n",
              "      <th>0</th>\n",
              "      <td>630</td>\n",
              "      <td>Functional Genetic Variants in DC-SIGNR Are As...</td>\n",
              "      <td>262</td>\n",
              "      <td>What is the main cause of HIV-1 infection in c...</td>\n",
              "      <td>370</td>\n",
              "      <td>Mother-to-child transmission (MTCT) is the mai...</td>\n",
              "      <td>False</td>\n",
              "    </tr>\n",
              "    <tr>\n",
              "      <th>1</th>\n",
              "      <td>630</td>\n",
              "      <td>Functional Genetic Variants in DC-SIGNR Are As...</td>\n",
              "      <td>276</td>\n",
              "      <td>What plays the crucial role in the Mother to C...</td>\n",
              "      <td>2003</td>\n",
              "      <td>DC-SIGNR plays a crucial role in MTCT of HIV-1...</td>\n",
              "      <td>False</td>\n",
              "    </tr>\n",
              "    <tr>\n",
              "      <th>2</th>\n",
              "      <td>630</td>\n",
              "      <td>Functional Genetic Variants in DC-SIGNR Are As...</td>\n",
              "      <td>278</td>\n",
              "      <td>How many children were infected by HIV-1 in 20...</td>\n",
              "      <td>2291</td>\n",
              "      <td>more than 400,000 children were infected world...</td>\n",
              "      <td>False</td>\n",
              "    </tr>\n",
              "    <tr>\n",
              "      <th>3</th>\n",
              "      <td>630</td>\n",
              "      <td>Functional Genetic Variants in DC-SIGNR Are As...</td>\n",
              "      <td>316</td>\n",
              "      <td>What is the role of C-C Motif Chemokine Ligand...</td>\n",
              "      <td>28143</td>\n",
              "      <td>High copy numbers of CCL3L1, a potent HIV-1 su...</td>\n",
              "      <td>False</td>\n",
              "    </tr>\n",
              "    <tr>\n",
              "      <th>4</th>\n",
              "      <td>630</td>\n",
              "      <td>Functional Genetic Variants in DC-SIGNR Are As...</td>\n",
              "      <td>305</td>\n",
              "      <td>What is DC-GENR and where is  it expressed?</td>\n",
              "      <td>3207</td>\n",
              "      <td>Dendritic cell-specific ICAM-grabbing non-inte...</td>\n",
              "      <td>False</td>\n",
              "    </tr>\n",
              "    <tr>\n",
              "      <th>...</th>\n",
              "      <td>...</td>\n",
              "      <td>...</td>\n",
              "      <td>...</td>\n",
              "      <td>...</td>\n",
              "      <td>...</td>\n",
              "      <td>...</td>\n",
              "      <td>...</td>\n",
              "    </tr>\n",
              "    <tr>\n",
              "      <th>2014</th>\n",
              "      <td>1713</td>\n",
              "      <td>Ebola Virus Maintenance: If Not (Only) Bats, W...</td>\n",
              "      <td>5315</td>\n",
              "      <td>What is the structure of the Ebolavirus?</td>\n",
              "      <td>2270</td>\n",
              "      <td>single-strand RNA filoviruses</td>\n",
              "      <td>False</td>\n",
              "    </tr>\n",
              "    <tr>\n",
              "      <th>2015</th>\n",
              "      <td>1713</td>\n",
              "      <td>Ebola Virus Maintenance: If Not (Only) Bats, W...</td>\n",
              "      <td>5316</td>\n",
              "      <td>When was the West African Ebolavirus outbreak?</td>\n",
              "      <td>2546</td>\n",
              "      <td>2013-2016</td>\n",
              "      <td>False</td>\n",
              "    </tr>\n",
              "    <tr>\n",
              "      <th>2016</th>\n",
              "      <td>1713</td>\n",
              "      <td>Ebola Virus Maintenance: If Not (Only) Bats, W...</td>\n",
              "      <td>5317</td>\n",
              "      <td>What animals are considered to be maintenance ...</td>\n",
              "      <td>4083</td>\n",
              "      <td>African bats</td>\n",
              "      <td>False</td>\n",
              "    </tr>\n",
              "    <tr>\n",
              "      <th>2017</th>\n",
              "      <td>1713</td>\n",
              "      <td>Ebola Virus Maintenance: If Not (Only) Bats, W...</td>\n",
              "      <td>5318</td>\n",
              "      <td>What do circles indicate in Figure 1?</td>\n",
              "      <td>7212</td>\n",
              "      <td>a maintenance function play by the host(s)</td>\n",
              "      <td>False</td>\n",
              "    </tr>\n",
              "    <tr>\n",
              "      <th>2018</th>\n",
              "      <td>1713</td>\n",
              "      <td>Ebola Virus Maintenance: If Not (Only) Bats, W...</td>\n",
              "      <td>5319</td>\n",
              "      <td>What do arrows indicate in Figure 1?</td>\n",
              "      <td>7273</td>\n",
              "      <td>infectious transmission pathways between hosts</td>\n",
              "      <td>False</td>\n",
              "    </tr>\n",
              "  </tbody>\n",
              "</table>\n",
              "<p>2019 rows × 7 columns</p>\n",
              "</div>"
            ],
            "text/plain": [
              "      document_id  ... is_impossible\n",
              "0             630  ...         False\n",
              "1             630  ...         False\n",
              "2             630  ...         False\n",
              "3             630  ...         False\n",
              "4             630  ...         False\n",
              "...           ...  ...           ...\n",
              "2014         1713  ...         False\n",
              "2015         1713  ...         False\n",
              "2016         1713  ...         False\n",
              "2017         1713  ...         False\n",
              "2018         1713  ...         False\n",
              "\n",
              "[2019 rows x 7 columns]"
            ]
          },
          "metadata": {
            "tags": []
          },
          "execution_count": 16
        }
      ]
    },
    {
      "cell_type": "code",
      "metadata": {
        "id": "VZDzNR6x1plW"
      },
      "source": [
        "qu_nltk = question_understanding(new_data,\"nltk\")\n",
        "qu_fasttext = question_understanding(new_data,\"fasttext\")"
      ],
      "execution_count": 17,
      "outputs": []
    },
    {
      "cell_type": "markdown",
      "metadata": {
        "id": "LdPYJJFV-X62"
      },
      "source": [
        "Berikut adalah hasil proses question understanding dengan menggunakan model POS Tag dari NLTK, berupa perolehan keyword dan question type pada dataset."
      ]
    },
    {
      "cell_type": "code",
      "metadata": {
        "colab": {
          "base_uri": "https://localhost:8080/",
          "height": 419
        },
        "id": "9tRuEMvg2n5M",
        "outputId": "11b88406-23d8-4b51-a5b9-e53b88a6d14a"
      },
      "source": [
        "qu_nltk"
      ],
      "execution_count": 18,
      "outputs": [
        {
          "output_type": "execute_result",
          "data": {
            "text/html": [
              "<div>\n",
              "<style scoped>\n",
              "    .dataframe tbody tr th:only-of-type {\n",
              "        vertical-align: middle;\n",
              "    }\n",
              "\n",
              "    .dataframe tbody tr th {\n",
              "        vertical-align: top;\n",
              "    }\n",
              "\n",
              "    .dataframe thead th {\n",
              "        text-align: right;\n",
              "    }\n",
              "</style>\n",
              "<table border=\"1\" class=\"dataframe\">\n",
              "  <thead>\n",
              "    <tr style=\"text-align: right;\">\n",
              "      <th></th>\n",
              "      <th>keywords</th>\n",
              "      <th>question_type</th>\n",
              "    </tr>\n",
              "  </thead>\n",
              "  <tbody>\n",
              "    <tr>\n",
              "      <th>0</th>\n",
              "      <td>main cause hiv-1 infection children</td>\n",
              "      <td>what</td>\n",
              "    </tr>\n",
              "    <tr>\n",
              "      <th>1</th>\n",
              "      <td>crucial role mother child transmission hiv-1 risk</td>\n",
              "      <td>what</td>\n",
              "    </tr>\n",
              "    <tr>\n",
              "      <th>2</th>\n",
              "      <td>children infected hiv-1 2008-2009 worldwide</td>\n",
              "      <td>how</td>\n",
              "    </tr>\n",
              "    <tr>\n",
              "      <th>3</th>\n",
              "      <td>role c-c motif 3 1 ccl3l1 mother child transmi...</td>\n",
              "      <td>what</td>\n",
              "    </tr>\n",
              "    <tr>\n",
              "      <th>4</th>\n",
              "      <td>dc-genr expressed</td>\n",
              "      <td>what,where</td>\n",
              "    </tr>\n",
              "    <tr>\n",
              "      <th>...</th>\n",
              "      <td>...</td>\n",
              "      <td>...</td>\n",
              "    </tr>\n",
              "    <tr>\n",
              "      <th>2014</th>\n",
              "      <td>structure ebolavirus</td>\n",
              "      <td>what</td>\n",
              "    </tr>\n",
              "    <tr>\n",
              "      <th>2015</th>\n",
              "      <td>west african ebolavirus outbreak</td>\n",
              "      <td>when</td>\n",
              "    </tr>\n",
              "    <tr>\n",
              "      <th>2016</th>\n",
              "      <td>animals considered maintenance hosts ebolavirus</td>\n",
              "      <td>what</td>\n",
              "    </tr>\n",
              "    <tr>\n",
              "      <th>2017</th>\n",
              "      <td>circles indicate figure 1</td>\n",
              "      <td>what</td>\n",
              "    </tr>\n",
              "    <tr>\n",
              "      <th>2018</th>\n",
              "      <td>arrows indicate figure 1</td>\n",
              "      <td>what</td>\n",
              "    </tr>\n",
              "  </tbody>\n",
              "</table>\n",
              "<p>2019 rows × 2 columns</p>\n",
              "</div>"
            ],
            "text/plain": [
              "                                               keywords question_type\n",
              "0                   main cause hiv-1 infection children          what\n",
              "1     crucial role mother child transmission hiv-1 risk          what\n",
              "2           children infected hiv-1 2008-2009 worldwide           how\n",
              "3     role c-c motif 3 1 ccl3l1 mother child transmi...          what\n",
              "4                                     dc-genr expressed    what,where\n",
              "...                                                 ...           ...\n",
              "2014                               structure ebolavirus          what\n",
              "2015                   west african ebolavirus outbreak          when\n",
              "2016    animals considered maintenance hosts ebolavirus          what\n",
              "2017                          circles indicate figure 1          what\n",
              "2018                           arrows indicate figure 1          what\n",
              "\n",
              "[2019 rows x 2 columns]"
            ]
          },
          "metadata": {
            "tags": []
          },
          "execution_count": 18
        }
      ]
    },
    {
      "cell_type": "markdown",
      "metadata": {
        "id": "qmMbiBe0-nJY"
      },
      "source": [
        "Berikut adalah hasil proses question understanding dengan menggunakan model FastText dan Random Forest, berupa perolehan keyword dan question type pada dataset."
      ]
    },
    {
      "cell_type": "code",
      "metadata": {
        "colab": {
          "base_uri": "https://localhost:8080/",
          "height": 419
        },
        "id": "syfm9aIS3wzW",
        "outputId": "c0a48657-6f9d-40fc-deb4-9b6030e60768"
      },
      "source": [
        "qu_fasttext"
      ],
      "execution_count": 19,
      "outputs": [
        {
          "output_type": "execute_result",
          "data": {
            "text/html": [
              "<div>\n",
              "<style scoped>\n",
              "    .dataframe tbody tr th:only-of-type {\n",
              "        vertical-align: middle;\n",
              "    }\n",
              "\n",
              "    .dataframe tbody tr th {\n",
              "        vertical-align: top;\n",
              "    }\n",
              "\n",
              "    .dataframe thead th {\n",
              "        text-align: right;\n",
              "    }\n",
              "</style>\n",
              "<table border=\"1\" class=\"dataframe\">\n",
              "  <thead>\n",
              "    <tr style=\"text-align: right;\">\n",
              "      <th></th>\n",
              "      <th>keywords</th>\n",
              "      <th>question_type</th>\n",
              "    </tr>\n",
              "  </thead>\n",
              "  <tbody>\n",
              "    <tr>\n",
              "      <th>0</th>\n",
              "      <td>main cause hiv-1 infection children</td>\n",
              "      <td>what</td>\n",
              "    </tr>\n",
              "    <tr>\n",
              "      <th>1</th>\n",
              "      <td>crucial role mother child transmission hiv-1 i...</td>\n",
              "      <td>what</td>\n",
              "    </tr>\n",
              "    <tr>\n",
              "      <th>2</th>\n",
              "      <td>children infected hiv-1 2008-2009 worldwide</td>\n",
              "      <td>how</td>\n",
              "    </tr>\n",
              "    <tr>\n",
              "      <th>3</th>\n",
              "      <td>role c-c motif chemokine ligand 3 1 ccl3l1 mot...</td>\n",
              "      <td>what</td>\n",
              "    </tr>\n",
              "    <tr>\n",
              "      <th>4</th>\n",
              "      <td>dc-genr expressed</td>\n",
              "      <td>what,where</td>\n",
              "    </tr>\n",
              "    <tr>\n",
              "      <th>...</th>\n",
              "      <td>...</td>\n",
              "      <td>...</td>\n",
              "    </tr>\n",
              "    <tr>\n",
              "      <th>2014</th>\n",
              "      <td>structure ebolavirus</td>\n",
              "      <td>what</td>\n",
              "    </tr>\n",
              "    <tr>\n",
              "      <th>2015</th>\n",
              "      <td>west african ebolavirus outbreak</td>\n",
              "      <td>when</td>\n",
              "    </tr>\n",
              "    <tr>\n",
              "      <th>2016</th>\n",
              "      <td>animals considered maintenance ebolavirus</td>\n",
              "      <td>what</td>\n",
              "    </tr>\n",
              "    <tr>\n",
              "      <th>2017</th>\n",
              "      <td>circles figure 1</td>\n",
              "      <td>what</td>\n",
              "    </tr>\n",
              "    <tr>\n",
              "      <th>2018</th>\n",
              "      <td>arrows figure 1</td>\n",
              "      <td>what</td>\n",
              "    </tr>\n",
              "  </tbody>\n",
              "</table>\n",
              "<p>2019 rows × 2 columns</p>\n",
              "</div>"
            ],
            "text/plain": [
              "                                               keywords question_type\n",
              "0                   main cause hiv-1 infection children          what\n",
              "1     crucial role mother child transmission hiv-1 i...          what\n",
              "2           children infected hiv-1 2008-2009 worldwide           how\n",
              "3     role c-c motif chemokine ligand 3 1 ccl3l1 mot...          what\n",
              "4                                     dc-genr expressed    what,where\n",
              "...                                                 ...           ...\n",
              "2014                               structure ebolavirus          what\n",
              "2015                   west african ebolavirus outbreak          when\n",
              "2016          animals considered maintenance ebolavirus          what\n",
              "2017                                   circles figure 1          what\n",
              "2018                                    arrows figure 1          what\n",
              "\n",
              "[2019 rows x 2 columns]"
            ]
          },
          "metadata": {
            "tags": []
          },
          "execution_count": 19
        }
      ]
    },
    {
      "cell_type": "markdown",
      "metadata": {
        "id": "mM7utt9x-txy"
      },
      "source": [
        "Berikut adalah kemiripan keyword secara mutlak. Maksudnya adalah penghitugan kemiripan / keakuratan keyword yang dihasilkan oleh NLTK dan FastText secara persis. Contohnya sebagai berikut.\n",
        "\n",
        "String A = \"ABC DEF GHI\" <br>\n",
        "String B = \"ABC GHI\" <br>\n",
        "\n",
        "Maka, antara dua string tersebut dinyatakan tidak sama dan tidak mengkalkulasi persentase kemiripan."
      ]
    },
    {
      "cell_type": "code",
      "metadata": {
        "colab": {
          "base_uri": "https://localhost:8080/"
        },
        "id": "F4GuZjpY3x6m",
        "outputId": "90ee77bf-221f-402e-88aa-00a1c75a5329"
      },
      "source": [
        "print('Kemiripan keyword secara mutlak : %.2f' % (accuracy_score(qu_nltk.keywords, qu_fasttext.keywords)*100),\"%\")"
      ],
      "execution_count": 20,
      "outputs": [
        {
          "output_type": "stream",
          "text": [
            "Kemiripan keyword secara mutlak : 78.01 %\n"
          ],
          "name": "stdout"
        }
      ]
    },
    {
      "cell_type": "markdown",
      "metadata": {
        "id": "BmwPd3Hp_Y_U"
      },
      "source": [
        "Ada paradigma/bentuk lain untuk melihat kemiripan keyword yang dihasilkan oleh 2 model tersebut. Bisa dilakukan dengan keyword similarity. Similarity yang digunakan adalah string similarity menggunakan library SequenceMatcher dari difflib. Contohnya sebagai berikut."
      ]
    },
    {
      "cell_type": "code",
      "metadata": {
        "id": "jCPWgv9w4TWc"
      },
      "source": [
        "def similar(a, b):\n",
        "    return SequenceMatcher(None, a, b).ratio()"
      ],
      "execution_count": 21,
      "outputs": []
    },
    {
      "cell_type": "code",
      "metadata": {
        "colab": {
          "base_uri": "https://localhost:8080/"
        },
        "id": "Ox9YWqU6AIQb",
        "outputId": "bc5cff0f-39a9-4748-8230-80f2591a6c92"
      },
      "source": [
        "String1 = \"ABC DEF GHI\"\n",
        "String2 = \"ABC GHI\"\n",
        "print(\"Text 1 :\",String1)\n",
        "print(\"Text 2 :\",String2)\n",
        "print(\"Similarity text 1 dan 2:  %.2f\" % (similar(String1,String2)))\n",
        "print()\n",
        "String3 = \"coronavirus firstly spread\"\n",
        "String4 = \"corona first spread\"\n",
        "print(\"Text 3 :\",String3)\n",
        "print(\"Text 4 :\",String4)\n",
        "print(\"Similarity text 3 dan 4 :  %.2f\" % (similar(String3,String4)))\n",
        "print()\n",
        "print(\"Similarity text 1 dan 3 :  %.2f\" % (similar(String1,String3)))"
      ],
      "execution_count": 22,
      "outputs": [
        {
          "output_type": "stream",
          "text": [
            "Text 1 : ABC DEF GHI\n",
            "Text 2 : ABC GHI\n",
            "Similarity text 1 dan 2:  0.78\n",
            "\n",
            "Text 3 : coronavirus firstly spread\n",
            "Text 4 : corona first spread\n",
            "Similarity text 3 dan 4 :  0.84\n",
            "\n",
            "Similarity text 1 dan 3 :  0.11\n"
          ],
          "name": "stdout"
        }
      ]
    },
    {
      "cell_type": "markdown",
      "metadata": {
        "id": "1nKYXeosBYCu"
      },
      "source": [
        "Untuk setiap similarity yang dihasilkan akan dijumlahkan dan dibagi dengan jumlah data. Berikut adalah hasil kemiripan keyword berdasarkan keyword similarity."
      ]
    },
    {
      "cell_type": "code",
      "metadata": {
        "colab": {
          "base_uri": "https://localhost:8080/"
        },
        "id": "E5wwxdKi4jZZ",
        "outputId": "08536c1f-fe8b-4a8a-cb0c-e1760cc5208f"
      },
      "source": [
        "sum = 0\n",
        "for i in range(len(qu_nltk)):\n",
        "  \n",
        "  sum+=similar(qu_nltk.keywords[i],qu_fasttext.keywords[i])\n",
        "\n",
        "print('Kemiripan keyword dengan mempertimbangkan keyword similarity : %.2f' % (sum/2019*100),\"%\")"
      ],
      "execution_count": 23,
      "outputs": [
        {
          "output_type": "stream",
          "text": [
            "Kemiripan keyword dengan mempertimbangkan keyword similarity : 97.44 %\n"
          ],
          "name": "stdout"
        }
      ]
    },
    {
      "cell_type": "code",
      "metadata": {
        "colab": {
          "base_uri": "https://localhost:8080/"
        },
        "id": "dp2JePGd38p6",
        "outputId": "2192a5d9-7547-4811-cc19-910007677d49"
      },
      "source": [
        "print('Kemiripan jenis pertanyaan: %.2f' % (accuracy_score(qu_nltk.question_type, qu_fasttext.question_type)*100),\"%\")"
      ],
      "execution_count": 24,
      "outputs": [
        {
          "output_type": "stream",
          "text": [
            "Kemiripan jenis pertanyaan: 99.06 %\n"
          ],
          "name": "stdout"
        }
      ]
    },
    {
      "cell_type": "markdown",
      "metadata": {
        "id": "ILskLPBtBot5"
      },
      "source": [
        "Sebagai pengujian, berikut adalah contoh pertanyaan yang dilakukan proses question understanding dengan model NLTK dan FastText+Random Forest."
      ]
    },
    {
      "cell_type": "code",
      "metadata": {
        "id": "CACnoDjg4vNp"
      },
      "source": [
        "test_input = \"When is the coronavirus started from and where is it? \""
      ],
      "execution_count": 25,
      "outputs": []
    },
    {
      "cell_type": "code",
      "metadata": {
        "colab": {
          "base_uri": "https://localhost:8080/"
        },
        "id": "2Bsh9xex5AlK",
        "outputId": "0940ea70-3934-48c8-dd75-e7dfd86a1196"
      },
      "source": [
        "quest_token = word_tokenize(test_input)\n",
        "postag_question = pos_tag(quest_token)\n",
        "quest_key = extract_keyword(postag_question)\n",
        "quest_type =  question_type_extraction(postag_question)\n",
        "print(\"PERTANYAAN  : \",test_input)\n",
        "print(\"1. POS Tag dengan NLTK\")\n",
        "print(\"Keyword     : \",quest_key)\n",
        "print(\"Quest. Type : \",quest_type)\n",
        "print()\n",
        "postag_question2 = get_pos_tag(quest_token)\n",
        "quest_key2 = extract_keyword(postag_question2)\n",
        "quest_type2 =  question_type_extraction(postag_question2)\n",
        "print(\"2. POS Tag dengan model FastText dan Random Forest\")\n",
        "print(\"Keyword     : \",quest_key2)\n",
        "print(\"Quest. Type : \",quest_type2)"
      ],
      "execution_count": 26,
      "outputs": [
        {
          "output_type": "stream",
          "text": [
            "PERTANYAAN  :  When is the coronavirus started from and where is it? \n",
            "1. POS Tag dengan NLTK\n",
            "Keyword     :  coronavirus started\n",
            "Quest. Type :  When,where\n",
            "\n",
            "2. POS Tag dengan model FastText dan Random Forest\n",
            "Keyword     :  When coronavirus started\n",
            "Quest. Type :  where\n"
          ],
          "name": "stdout"
        }
      ]
    },
    {
      "cell_type": "markdown",
      "metadata": {
        "id": "VEymCPb9B5aF"
      },
      "source": [
        "Secara kontekstual, model NLTK lebih presisi dari segi ketepatan. Maka dari itu, untuk proses/modul Question Understanding di program utama akan digunakan pelabelan POS dengan library NLTK."
      ]
    }
  ]
}